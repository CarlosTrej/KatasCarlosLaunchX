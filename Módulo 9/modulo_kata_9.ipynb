{
 "cells": [
  {
   "cell_type": "markdown",
   "metadata": {},
   "source": [
    "# Ejercicio: Uso de funciones en Python"
   ]
  },
  {
   "cell_type": "markdown",
   "metadata": {},
   "source": [
    "Ejercicio 1: Trabajar con argumentos en funciones\n",
    "\n",
    "Los argumentos requeridos en las funciones se utilizan cuando las funciones necesitan que esos argumentos funcionen correctamente. En este ejercicio, construirás un informe de combustible que requiere información de varias ubicaciones de combustible en todo el cohete.\n",
    "\n",
    "Comienza por crear una función que necesite tres lecturas de combustible y devuelva un informe:\n"
   ]
  },
  {
   "cell_type": "code",
   "execution_count": 1,
   "metadata": {},
   "outputs": [],
   "source": [
    "def fuel (tank1, tank2, tank3):\n",
    "    return (tank1 + tank2 + tank3)/3\n",
    "    "
   ]
  },
  {
   "cell_type": "markdown",
   "metadata": {},
   "source": [
    "Ahora que hemos definido la función de informes, vamos a comprobarlo. Para esta misión, los tanques no están llenos:\n"
   ]
  },
  {
   "cell_type": "code",
   "execution_count": 3,
   "metadata": {},
   "outputs": [
    {
     "name": "stdout",
     "output_type": "stream",
     "text": [
      "porcent of fuel is 0.0 %\n"
     ]
    }
   ],
   "source": [
    "print(f\"porcent of fuel is {fuel(0,0,0)} %\")"
   ]
  },
  {
   "cell_type": "markdown",
   "metadata": {},
   "source": [
    "En lugar de simplemente crear el informe, la función también está calculando el promedio. Mejora la legibilidad extrayendo el cálculo promedio de la función en una nueva función para que el promedio se pueda hacer de forma independiente:"
   ]
  },
  {
   "cell_type": "code",
   "execution_count": 16,
   "metadata": {},
   "outputs": [],
   "source": [
    "def avgFuel (*args):\n",
    "    total = sum(args)\n",
    "    av = len(args)\n",
    "    return round(total/av)"
   ]
  },
  {
   "cell_type": "markdown",
   "metadata": {},
   "source": [
    "Ahora actualiza la función de informes para llamando a la nueva función del promedio"
   ]
  },
  {
   "cell_type": "code",
   "execution_count": 17,
   "metadata": {},
   "outputs": [
    {
     "name": "stdout",
     "output_type": "stream",
     "text": [
      "porcent of fuel is 44 %\n"
     ]
    }
   ],
   "source": [
    "def fuel (tank1, tank2, tank3):\n",
    "    return avgFuel(tank1, tank2, tank3)\n",
    "print(f\"porcent of fuel is {fuel(23,50,60)} %\")"
   ]
  },
  {
   "cell_type": "markdown",
   "metadata": {},
   "source": [
    "# Ejercicio 2: Trabajo con argumentos de palabra clave"
   ]
  },
  {
   "cell_type": "markdown",
   "metadata": {},
   "source": [
    "En este ejercicio, construirás un informe de cohete que requiere varias piezas de información, como el tiempo hasta el destino, el combustible a la izquierda y el nombre del destino. Comienza por crear una función que creará un informe preciso de la misión:"
   ]
  },
  {
   "cell_type": "code",
   "execution_count": 20,
   "metadata": {},
   "outputs": [
    {
     "name": "stdout",
     "output_type": "stream",
     "text": [
      "mission destination : Jupiter\n",
      "Crossing time : 120\n",
      "Fuel level : 6547572 liters\n"
     ]
    }
   ],
   "source": [
    "def shipReport(preLaunch, flightTime, destinity, extTank, intTank):\n",
    "    return f\"mission destination : {destinity}\\nCrossing time : {preLaunch + flightTime}\\nFuel level : {(extTank + intTank)} liters\"\n",
    "print(shipReport(20, 100, \"Jupiter\", 2718281, 3829291))"
   ]
  },
  {
   "cell_type": "markdown",
   "metadata": {},
   "source": [
    "La función es problemática porque no se puede adaptar para minutos adicionales o tanques adicionales de combustible. Hazlo más flexible permitiendo cualquier número de pasos basados en el tiempo y cualquier número de tanques. En lugar de usar *args y **kwargs, aprovecha el hecho de que puedes usar cualquier nombre que desees. Asegurate que la función sea más legible mediante el uso de nombres de variables que están asociados con las entradas, como *minutes y **fuel_reservoirs:"
   ]
  },
  {
   "cell_type": "code",
   "execution_count": 24,
   "metadata": {},
   "outputs": [
    {
     "name": "stdout",
     "output_type": "stream",
     "text": [
      "mission destination : Jupiter\n",
      "Crossing time : 120\n",
      "Fuel level : 6547572 liters\n"
     ]
    }
   ],
   "source": [
    "def shipReport(destinity, *minutes, **fuel_reservoirs):\n",
    "    return f\"mission destination : {destinity}\\nCrossing time : {sum(minutes)}\\nFuel level : {sum(fuel_reservoirs.values())} liters\"\n",
    "print(shipReport(\"Jupiter\",20, 100, extTank=2718281, intTank=3829291))"
   ]
  },
  {
   "cell_type": "markdown",
   "metadata": {},
   "source": [
    "Debido a que el combustible que queda en los tanques es específico de cada tanque, actualiza la función para usar el nombre de cada tanque en el informe:"
   ]
  },
  {
   "cell_type": "code",
   "execution_count": 28,
   "metadata": {},
   "outputs": [
    {
     "name": "stdout",
     "output_type": "stream",
     "text": [
      "mission destination : Jupiter\n",
      "Crossing time : 120\n",
      "Fuel level : 6547572 liters\n",
      "name of tank : extTank -- [capacity : 2718281 ]\n",
      "name of tank : intTank -- [capacity : 3829291 ]\n"
     ]
    }
   ],
   "source": [
    "def shipReport(destinity, *minutes, **fuel_reservoirs):\n",
    "    report = f\"mission destination : {destinity}\\nCrossing time : {sum(minutes)}\\nFuel level : {sum(fuel_reservoirs.values())} liters\"\n",
    "    details =\"\"\n",
    "    for nameTank, capacity in fuel_reservoirs.items():\n",
    "        details += f\"\\nname of tank : {nameTank} -- [capacity : {capacity} ]\"\n",
    "    return report + details\n",
    "print(shipReport(\"Jupiter\",20, 100, extTank=2718281, intTank=3829291))"
   ]
  }
 ],
 "metadata": {
  "interpreter": {
   "hash": "4f7b3a454df04c58ccf9ae4c5da828228aa142624041ed0515160ae7bbfbed77"
  },
  "kernelspec": {
   "display_name": "Python 3.8.10 64-bit",
   "language": "python",
   "name": "python3"
  },
  "language_info": {
   "codemirror_mode": {
    "name": "ipython",
    "version": 3
   },
   "file_extension": ".py",
   "mimetype": "text/x-python",
   "name": "python",
   "nbconvert_exporter": "python",
   "pygments_lexer": "ipython3",
   "version": "3.8.10"
  },
  "orig_nbformat": 4
 },
 "nbformat": 4,
 "nbformat_minor": 2
}
