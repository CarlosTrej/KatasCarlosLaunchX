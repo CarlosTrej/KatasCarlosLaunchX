{
 "cells": [
  {
   "cell_type": "markdown",
   "metadata": {},
   "source": [
    "# Ejercicio - Escribir declaraciones if, else, y elif"
   ]
  },
  {
   "cell_type": "markdown",
   "metadata": {},
   "source": [
    "Para este ejercicio, escribirás una lógica condicional que imprima una advertencia si un asteroide se acerca a la Tierra demasiado rápido. La velocidad del asteroide varía dependiendo de lo cerca que esté del sol, y cualquier velocidad superior a 25 kilómetros por segundo (km/s) merece una advertencia.\n",
    "\n",
    "Un asteroide se acerca, y viaja a una velocidad de 49 km/s.\n"
   ]
  },
  {
   "cell_type": "code",
   "execution_count": 1,
   "metadata": {},
   "outputs": [
    {
     "name": "stdout",
     "output_type": "stream",
     "text": [
      "¡Alerta! se acerca un asteroide, resguardate en un lugar seguro.\n"
     ]
    }
   ],
   "source": [
    "vAsteroide = 49\n",
    "if vAsteroide > 25:\n",
    "    print('¡Alerta! se acerca un asteroide.')\n",
    "else:\n",
    "    print('Manten la calma, la velocidad del asteroide no implica un riesgo.')"
   ]
  },
  {
   "cell_type": "markdown",
   "metadata": {},
   "source": [
    "Si un asteroide entra en la atmósfera de la Tierra a una velocidad mayor o igual a 20 km/s, a veces produce un rayo de luz que se puede ver desde la Tierra. Escribe la lógica condicional que usa declaraciones if, else, y elif para alertar a las personas de todo el mundo que deben buscar un asteroide en el cielo. ¡Hay uno que se dirige a la tierra ahora a una velocidad de 19 km/s!"
   ]
  },
  {
   "cell_type": "code",
   "execution_count": 2,
   "metadata": {},
   "outputs": [
    {
     "name": "stdout",
     "output_type": "stream",
     "text": [
      "El asteroide no es percibible en el cielo..\n"
     ]
    }
   ],
   "source": [
    "vAsteroide = 19\n",
    "if vAsteroide > 20:\n",
    "    print('Hay un asteroide en el cielo.')\n",
    "elif vAsteroide == 20:\n",
    "     print('Hay un asteroide en el cielo.')\n",
    "else:\n",
    "    print('El asteroide no es percibible en el cielo..')"
   ]
  },
  {
   "cell_type": "markdown",
   "metadata": {},
   "source": [
    "Los asteroides de menos de 25 metros en su dimensión más grande probablemente se quemarán a medida que entren en la atmósfera de la Tierra.\n",
    "\n",
    "Si una pieza de un asteroide que es más grande que 25 metros pero más pequeña que 1000 metros golpeara la Tierra, causaría mucho daño.\n",
    "También discutimos en el ejercicio anterior que:\n",
    "\n",
    "La velocidad del asteroide varía en función de lo cerca que esté del sol, y cualquier velocidad superior a 25 kilómetros por segundo (km/s) merece una advertencia.\n",
    "Si un asteroide entra en la atmósfera de la Tierra a una velocidad mayor o igual a 20 km/s, a veces produce un rayo de luz que se puede ver desde la Tierra.\n",
    "Usando toda esta información, escribe un programa que emita la advertencia o información correcta a la gente de la Tierra, según la velocidad y el tamaño de un asteroide. Utiliza instrucciones if, else, y elif, así como los operadores and y or."
   ]
  },
  {
   "cell_type": "code",
   "execution_count": 6,
   "metadata": {},
   "outputs": [
    {
     "name": "stdout",
     "output_type": "stream",
     "text": [
      "El asteroide no es peligro y sera visible en el cielo.\n"
     ]
    }
   ],
   "source": [
    "vAsteroide = 24;\n",
    "tAsteroide = 24;\n",
    "if vAsteroide >= 25:\n",
    "     print('¡Alerta! se acerca un asteroide.')\n",
    "     if tAsteroide >=25 and tAsteroide <1000:\n",
    "        print('El asteroide causara mucho daño.')\n",
    "     else:\n",
    "        print('El asteroide probablemente se quemará en la atmosfera.')\n",
    "elif vAsteroide >=20:\n",
    "\n",
    "    print('El asteroide no es peligro y sera visible en el cielo.')\n",
    "else:\n",
    "    print('Aqui no ha pasado nada, sigue con tu día.')         \n"
   ]
  }
 ],
 "metadata": {
  "interpreter": {
   "hash": "4f7b3a454df04c58ccf9ae4c5da828228aa142624041ed0515160ae7bbfbed77"
  },
  "kernelspec": {
   "display_name": "Python 3.8.10 64-bit",
   "language": "python",
   "name": "python3"
  },
  "language_info": {
   "codemirror_mode": {
    "name": "ipython",
    "version": 3
   },
   "file_extension": ".py",
   "mimetype": "text/x-python",
   "name": "python",
   "nbconvert_exporter": "python",
   "pygments_lexer": "ipython3",
   "version": "3.8.10"
  },
  "orig_nbformat": 4
 },
 "nbformat": 4,
 "nbformat_minor": 2
}
